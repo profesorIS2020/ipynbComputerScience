{
 "cells": [
  {
   "cell_type": "code",
   "execution_count": 1,
   "id": "93d3da16-1a3a-423f-b2a5-705873d64323",
   "metadata": {},
   "outputs": [
    {
     "name": "stdout",
     "output_type": "stream",
     "text": [
      "5.0\n",
      "<class 'float'>\n"
     ]
    }
   ],
   "source": [
    "print(100 / 20)\n",
    "print(type(100 / 20))\n"
   ]
  },
  {
   "cell_type": "code",
   "execution_count": 2,
   "id": "6da5d2f9-d168-4bd5-9187-6b08a1b8241a",
   "metadata": {},
   "outputs": [
    {
     "name": "stdout",
     "output_type": "stream",
     "text": [
      "1.5\n",
      "<class 'float'>\n"
     ]
    }
   ],
   "source": [
    "res1 = 3 / 2\n",
    "print(res1)\n",
    "print(type(res1))"
   ]
  },
  {
   "cell_type": "code",
   "execution_count": 3,
   "id": "9c3fa64d-fba7-46c3-9655-190b2ae52c44",
   "metadata": {},
   "outputs": [
    {
     "name": "stdout",
     "output_type": "stream",
     "text": [
      "----------\n",
      "1\n",
      "<class 'int'>\n"
     ]
    }
   ],
   "source": [
    "print('-' * 10)\n",
    "res1 = 3 // 2\n",
    "print(res1)\n",
    "print(type(res1))\n"
   ]
  },
  {
   "cell_type": "code",
   "execution_count": 4,
   "id": "0bf4b47f-3db3-4e30-82cf-e0c7053246b9",
   "metadata": {},
   "outputs": [
    {
     "name": "stdout",
     "output_type": "stream",
     "text": [
      "125\n"
     ]
    }
   ],
   "source": [
    "a = 5\n",
    "b = 3\n",
    "print(a ** b)"
   ]
  },
  {
   "cell_type": "code",
   "execution_count": 5,
   "id": "be91fdf4-7aa3-4774-b74b-b77e51e1e0df",
   "metadata": {},
   "outputs": [
    {
     "name": "stdout",
     "output_type": "stream",
     "text": [
      "Modulus division 4 % 2: 0\n",
      "Modulus division 3 % 2: 1\n"
     ]
    }
   ],
   "source": [
    "print('Modulus division 4 % 2:', 4 % 2)\n",
    "print('Modulus division 3 % 2:', 3 % 2)"
   ]
  },
  {
   "cell_type": "code",
   "execution_count": 6,
   "id": "3db9db35-b641-49ff-bf31-872c7cffa36a",
   "metadata": {},
   "outputs": [
    {
     "name": "stdout",
     "output_type": "stream",
     "text": [
      "True division 3/2: 1.5\n",
      "True division -3/2: -1.5\n",
      "Integer division 3//2: 1\n",
      "Integer division -3//2: -2\n"
     ]
    }
   ],
   "source": [
    "print('True division 3/2:', 3 / 2)\n",
    "print('True division -3/2:', -3 / 2)\n",
    "print('Integer division 3//2:', 3 // 2)\n",
    "print('Integer division -3//2:', -3 // 2)"
   ]
  },
  {
   "cell_type": "code",
   "execution_count": 7,
   "id": "2c6c314a-3d76-4639-a39d-1f88479dcb63",
   "metadata": {},
   "outputs": [
    {
     "name": "stdout",
     "output_type": "stream",
     "text": [
      "int value as a float: 1.0\n",
      "<class 'float'>\n",
      "string value as a float: 1.5\n",
      "<class 'float'>\n"
     ]
    }
   ],
   "source": [
    "int_value = 1\n",
    "string_value = '1.5'\n",
    "float_value = float(int_value)\n",
    "print('int value as a float:', float_value)\n",
    "print(type(float_value))\n",
    "float_value = float(string_value)\n",
    "print('string value as a float:', float_value)\n",
    "print(type(float_value))"
   ]
  },
  {
   "cell_type": "code",
   "execution_count": 9,
   "id": "93e0cac7-5643-4b57-a10a-3ff5b554e935",
   "metadata": {},
   "outputs": [
    {
     "name": "stdin",
     "output_type": "stream",
     "text": [
      "Please enter your age:  54\n"
     ]
    },
    {
     "name": "stdout",
     "output_type": "stream",
     "text": [
      "<class 'int'>\n",
      "54\n"
     ]
    }
   ],
   "source": [
    "age = int(input('Please enter your age: '))\n",
    "print(type(age))\n",
    "print(age)"
   ]
  },
  {
   "cell_type": "code",
   "execution_count": null,
   "id": "d6e82309-8f7e-4bf1-b00f-0ba9eb228cfb",
   "metadata": {},
   "outputs": [],
   "source": [
    "exchange_rate = float(input('Please enter the exchange rate to use: '))\n",
    "print(exchange_rate)\n",
    "print(type(exchange_rate))"
   ]
  },
  {
   "cell_type": "code",
   "execution_count": null,
   "id": "f608229a-d567-4986-a65f-c4728b854ef3",
   "metadata": {},
   "outputs": [],
   "source": [
    "print(float(1))\n",
    "print(int(exchange_rate))"
   ]
  },
  {
   "cell_type": "code",
   "execution_count": null,
   "id": "56d9c3db-2138-4cc1-bc2b-34ef68b3411e",
   "metadata": {},
   "outputs": [],
   "source": [
    "print(2.3 + 1.5)\n",
    "print(1.5 / 2.3)\n",
    "print(1.5 * 2.3)\n",
    "print(2.3 - 1.5)\n",
    "print(1.5 - 2.3)\n",
    "print(12.0 // 3.0)"
   ]
  },
  {
   "cell_type": "code",
   "execution_count": null,
   "id": "b8e273ce-f9d4-41db-869a-8da3d4687da9",
   "metadata": {},
   "outputs": [],
   "source": [
    "i = 3 * 0.1\n",
    "print(i)"
   ]
  },
  {
   "cell_type": "code",
   "execution_count": null,
   "id": "682af67e-fb1b-4f96-a2a9-e5b1b08ad310",
   "metadata": {},
   "outputs": [],
   "source": [
    "f = 3.2e4 + 0.00002e-6\n",
    "formatString = \"%16.20g\"\n",
    "print(formatString % f)\n",
    "print(type(f))"
   ]
  },
  {
   "cell_type": "code",
   "execution_count": null,
   "id": "8f7430bd-fb31-4764-9e18-60d1660059f9",
   "metadata": {},
   "outputs": [],
   "source": [
    "c1 = 1j\n",
    "c2 = 2j\n",
    "print('c1:', c1, ', c2:', c2)\n",
    "print(type(c1))\n",
    "print(c1.real)\n",
    "print(c1.imag)"
   ]
  },
  {
   "cell_type": "code",
   "execution_count": null,
   "id": "8427438b-2254-4c1f-b04a-f33a501acd5b",
   "metadata": {},
   "outputs": [],
   "source": [
    "c3 = c1 * c2\n",
    "print(c3)"
   ]
  },
  {
   "cell_type": "code",
   "execution_count": null,
   "id": "d39749ca-50be-48f7-89aa-ce9f85ac528c",
   "metadata": {},
   "outputs": [],
   "source": [
    "print('=' * 10)\n",
    "all_ok = True\n",
    "print(all_ok)\n",
    "all_ok = False\n",
    "print(all_ok)\n",
    "print(type(all_ok))"
   ]
  },
  {
   "cell_type": "code",
   "execution_count": null,
   "id": "376cadef-520d-4457-9362-caf09607908a",
   "metadata": {},
   "outputs": [],
   "source": [
    "print(int(True))\n",
    "print(int(False))\n",
    "print(bool(1))\n",
    "print(bool(0))"
   ]
  },
  {
   "cell_type": "code",
   "execution_count": null,
   "id": "2c46ec40-0244-4950-bd05-3dbab0080255",
   "metadata": {},
   "outputs": [],
   "source": [
    "status = bool(input('OK to proceed: '))\n",
    "print(status)\n",
    "print(type(status))"
   ]
  },
  {
   "cell_type": "code",
   "execution_count": null,
   "id": "cb11ec68-0b05-4397-815e-1d4fc1ca5db9",
   "metadata": {},
   "outputs": [],
   "source": [
    "x = 0\n",
    "x += 1\n",
    "print('x =', x)"
   ]
  },
  {
   "cell_type": "code",
   "execution_count": null,
   "id": "038b60fc-b8ea-4e98-be0b-6d05f6a2051f",
   "metadata": {},
   "outputs": [],
   "source": [
    "# Obtaining the type of an integer\n",
    "var = 100\n",
    "print(type(var))"
   ]
  },
  {
   "cell_type": "code",
   "execution_count": null,
   "id": "10cf4e96-4aed-46b7-9444-58452e8a1680",
   "metadata": {},
   "outputs": [],
   "source": [
    "# Obtaining the type of None\n",
    "winner = None\n",
    "print(type(winner))"
   ]
  },
  {
   "cell_type": "code",
   "execution_count": null,
   "id": "7157b296-0ec8-45a9-a483-8b56af6621a0",
   "metadata": {},
   "outputs": [],
   "source": [
    "# Testing a variable to see if it contains None\n",
    "print(winner is None)\n",
    "print(winner is not None)\n"
   ]
  },
  {
   "cell_type": "code",
   "execution_count": null,
   "id": "016fae28-2172-48ce-831e-4961aa2e3ea0",
   "metadata": {},
   "outputs": [],
   "source": [
    "# Set up the winner variable to hold None\n",
    "winner = None\n",
    "print('winner:', winner)\n",
    "print('winner is None:', winner is None)\n",
    "print('winner is not None:', winner is not None)\n",
    "print(type(winner))"
   ]
  },
  {
   "cell_type": "code",
   "execution_count": null,
   "id": "b0d3a289-c32a-44ba-bef4-9a26949b92d6",
   "metadata": {},
   "outputs": [],
   "source": [
    "# Now set winner to be True\n",
    "print('Set winner to True')\n",
    "winner = True\n",
    "print('winner:', winner)\n",
    "print('winner is None:', winner is None)\n",
    "print('winner is not None:', winner is not None)\n",
    "print(type(winner))"
   ]
  }
 ],
 "metadata": {
  "kernelspec": {
   "display_name": "Python 3 (ipykernel)",
   "language": "python",
   "name": "python3"
  },
  "language_info": {
   "codemirror_mode": {
    "name": "ipython",
    "version": 3
   },
   "file_extension": ".py",
   "mimetype": "text/x-python",
   "name": "python",
   "nbconvert_exporter": "python",
   "pygments_lexer": "ipython3",
   "version": "3.12.3"
  }
 },
 "nbformat": 4,
 "nbformat_minor": 5
}
