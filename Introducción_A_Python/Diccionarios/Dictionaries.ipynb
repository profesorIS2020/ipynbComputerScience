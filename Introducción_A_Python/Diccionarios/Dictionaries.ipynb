{
  "nbformat": 4,
  "nbformat_minor": 0,
  "metadata": {
    "colab": {
      "provenance": []
    },
    "kernelspec": {
      "name": "python3",
      "display_name": "Python 3"
    },
    "language_info": {
      "name": "python"
    }
  },
  "cells": [
    {
      "source": [
        "\"\"\"\n",
        "TEORÍA MATEMÁTICA asociada al ejercicio\n",
        "La teoría matemática detrás de este ejercicio está relacionada con la **noción de funciones y relaciones** en matemáticas discretas.\n",
        "\n",
        "Conceptos matemáticos clave\n",
        "1. **DICCIONARIO = FUNCIÓN**\n",
        "   Un diccionario en Python es esencialmente una **función matemática** \\( f: X \\to Y \\) que asigna a cada elemento de un conjunto de claves\n",
        "    \\( X \\) un único valor en \\( Y \\).\n",
        "   - Ejemplo:\n",
        "     \\[\n",
        "     f = \\{ ('a',1), ('b',2) \\}\n",
        "     \\]\n",
        "     Matemáticamente, esto significa que \\( f(a) = 1 \\) y \\( f(b) = 2 \\).\n",
        "\n",
        "2. CONJUNTOS Y PARES ORDENADOS\n",
        "   En el ejercicio, se crean diccionarios a partir de diferentes estructuras:\n",
        "   - Un **diccionario existente** equivale a una función ya definida.\n",
        "   - Una **lista de tuplas** representa una relación \\( R \\) entre dos conjuntos \\( X \\) y \\( Y \\):\n",
        "     \\[\n",
        "     R = \\{ ('b',3), ('c',4), ('d',5) \\}\n",
        "     \\]\n",
        "   - Una **tupla de listas** también define una función, pero escrita de otra manera.\n",
        "\n",
        "3. **PROPIEDAD DE UNICIDAD**\n",
        "   En matemáticas, una función no puede asignar **dos valores diferentes** a la misma clave. Python respeta esta propiedad:\n",
        "   ```python\n",
        "   dict([('b',3), ('b',4)])  # Se queda solo con ('b', 4)\n",
        "   ```\n",
        "   Esto ocurre porque en una función \\( f \\), si \\( f(b) = 3 \\) y \\( f(b) = 4 \\), habría una contradicción.\n",
        "--Conclusión:\n",
        "Un diccionario en Python representa una función matemática:\n",
        "   - El conjunto de claves es el dominio (\\( X \\)).\n",
        "   - Los valores son la imagen (\\( Y \\)).\n",
        "   - Se pueden definir funciones con listas de pares ordenados.\n",
        "   - No pueden existir claves repetidas con valores distintos.\n",
        "\n",
        "Básicamente, este ejercicio en Python ilustra cómo las funciones y relaciones de matemáticas discretas se representan en\n",
        "estructuras de datos computacionales.\n",
        "\n",
        "\"\"\"\n",
        "\n",
        "# Ejemplo_1: Sobrecarga del constructor de diccionarios:\n",
        "\n",
        "dict1 = dict({'a': 1, 'b': 2})\n",
        "print('dict1: ', dict1)\n",
        "dict2 = dict([('b',3),('c',4),('d',5)])\n",
        "print('dict2: ', dict2)\n",
        "dict3 = dict((['uk','Londres'],['ireland','Dublín'],['france','París']))\n",
        "print(dict3)"
      ],
      "cell_type": "code",
      "metadata": {
        "colab": {
          "base_uri": "https://localhost:8080/"
        },
        "id": "9yZsy6gp2do-",
        "outputId": "beba334d-97c5-474e-adf8-7e8684907d30"
      },
      "execution_count": null,
      "outputs": [
        {
          "output_type": "stream",
          "name": "stdout",
          "text": [
            "dict1:  {'a': 1, 'b': 2}\n",
            "dict2:  {'b': 3, 'c': 4, 'd': 5}\n",
            "{'uk': 'Londres', 'ireland': 'Dublín', 'france': 'París'}\n"
          ]
        }
      ]
    },
    {
      "cell_type": "code",
      "source": [
        "\n",
        "# Ejemplo_1: Sobrecarga del constructor de diccionarios:\n",
        "\n",
        "dict1 = dict({'a': 1, 'b': 2}) # Creación de un diccionario a partir de otro diccionario\n",
        "print('dict1: ', dict1)\n",
        "dict2 = dict([('b',3),('c',4),('d',5)]) # Creación de un diccionario a partir de una lista de tuplas\n",
        "print('dict2: ', dict2)\n",
        "dict3 = dict((['uk','Londres'],['ireland','Dublín'],['france','París'])) # Creación de un diccionario a partir de una tupla de listas\n",
        "print(dict3)\n",
        "\n",
        "\n",
        "# Eliminar entradas de un diccionario con los métodos pop(), popitem() o la palabra clave del()\n",
        "\n",
        "# Usando pop()\n",
        "print(\"\\nUsando pop():\")\n",
        "valor_eliminado = dict1.pop('a')  # Elimina la entrada con la clave 'a' y devuelve su valor\n",
        "print(\"Valor eliminado:\", valor_eliminado)\n",
        "print(\"Diccionario después de pop():\", dict1)\n",
        "\n",
        "\n",
        "# Usando popitem()\n",
        "print(\"\\nUsando popitem():\")\n",
        "clave_valor_eliminado = dict2.popitem()  # Elimina el último par clave-valor insertado y lo devuelve\n",
        "print(\"Clave y valor eliminados:\", clave_valor_eliminado)\n",
        "print(\"Diccionario después de popitem():\", dict2)\n",
        "\n",
        "\n",
        "# Usando del()\n",
        "print(\"\\nUsando del():\")\n",
        "if 'b' in dict2:\n",
        "  del dict2['b']  # Elimina la entrada con la clave 'b'\n",
        "  print(\"Diccionario después de del():\", dict2)\n",
        "else:\n",
        "  print(\"La clave 'b' no existe en el diccionario.\")\n",
        "\n"
      ],
      "metadata": {
        "id": "0erTiWMozzko",
        "colab": {
          "base_uri": "https://localhost:8080/"
        },
        "outputId": "a7f9cd03-840f-473f-8dae-a5078491153f"
      },
      "execution_count": null,
      "outputs": [
        {
          "output_type": "stream",
          "name": "stdout",
          "text": [
            "dict1:  {'a': 1, 'b': 2}\n",
            "dict2:  {'b': 3, 'c': 4, 'd': 5}\n",
            "{'uk': 'Londres', 'ireland': 'Dublín', 'france': 'París'}\n",
            "\n",
            "Usando pop():\n",
            "Valor eliminado: 1\n",
            "Diccionario después de pop(): {'b': 2}\n",
            "\n",
            "Usando popitem():\n",
            "Clave y valor eliminados: ('d', 5)\n",
            "Diccionario después de popitem(): {'b': 3, 'c': 4}\n",
            "\n",
            "Usando del():\n",
            "Diccionario después de del(): {'c': 4}\n"
          ]
        }
      ]
    },
    {
      "cell_type": "code",
      "source": [
        "# Ejemplo 2: Iterar un diccionario sobre las claves y sobre los valores, utilizando también el método values\n",
        "\n",
        "# Iterar sobre las claves de un diccionario\n",
        "dict1 = {'a': 1, 'b': 2, 'c': 3}\n",
        "for key in dict1:\n",
        "    print(key)\n",
        "\n",
        "# Iterar sobre los valores de un diccionario utilizando el método values()\n",
        "for value in dict1.values():\n",
        "    print(value)\n",
        "\n",
        "# Iterar sobre los pares clave-valor de un diccionario utilizando items()\n",
        "for key, value in dict1.items():\n",
        "    print(key, value)\n"
      ],
      "metadata": {
        "colab": {
          "base_uri": "https://localhost:8080/"
        },
        "id": "K-2zN2246_j4",
        "outputId": "9ad58174-6239-4f8f-b4a6-33b3630c8373"
      },
      "execution_count": null,
      "outputs": [
        {
          "output_type": "stream",
          "name": "stdout",
          "text": [
            "a\n",
            "b\n",
            "c\n",
            "1\n",
            "2\n",
            "3\n",
            "a 1\n",
            "b 2\n",
            "c 3\n"
          ]
        }
      ]
    },
    {
      "cell_type": "code",
      "source": [
        "\"\"\" TEORíA MATEMÁTICA ASOCIADA AL EJERCICIO\n",
        "La teoría matemática detrás se basa en probabilidades discretas y combinatoria.\n",
        "\n",
        "Conceptos matemáticos clave\n",
        "1️ESPACIO MUESTRAL\n",
        "Cada dado tiene 6 caras, por lo que el número total de combinaciones al lanzar dos dados es:\n",
        "\n",
        "6\n",
        "×\n",
        "6\n",
        "=\n",
        "36\n",
        "6×6=36\n",
        "El espacio muestral es el conjunto de todos los posibles resultados\n",
        "(\n",
        "𝑑\n",
        "1\n",
        ",\n",
        "𝑑\n",
        "2\n",
        ")\n",
        "(d1,d2), donde\n",
        "𝑑\n",
        "1\n",
        "d1 y\n",
        "𝑑\n",
        "2\n",
        "d2 son valores entre 1 y 6.\n",
        "\n",
        "DISTRIBUCIÓN DE PROBABILIDAD\n",
        "El resultado del lanzamiento de dos dados es la suma de ambos valores. Como hay más formas de obtener ciertos valores que otros, las probabilidades no son uniformes.\n",
        "Ejemplo:\n",
        "\n",
        "Solo hay 1 manera de obtener un 2:\n",
        "\n",
        "¡Por supuesto! Vamos a analizar por qué **solo hay una manera de obtener un 2** al lanzar dos dados.\n",
        "\n",
        "Espacio muestral\n",
        "Cuando tiramos dos dados de 6 caras, cada dado puede caer en un número entre 1 y 6.\n",
        "Si representamos el resultado como un par ordenado ( (d1, d2) ), donde:\n",
        "- ( d1 ) es el resultado del primer dado.\n",
        "- ( d2 ) es el resultado del segundo dado.\n",
        "\n",
        "Entonces, el total de combinaciones posibles es:\n",
        "[\n",
        "(1,1), (1,2), (1,3), ..., (6,6)\n",
        "]\n",
        "Esto da un total de 6 × 6 = 36 combinaciones.\n",
        "\n",
        "---\n",
        "\n",
        "¿Cómo se obtiene la suma 2?\n",
        "Para obtener un 2, la única posibilidad es:\n",
        "[\n",
        "(1,1)\n",
        "]\n",
        "Es decir, ambos dados deben caer en 1.\n",
        "\n",
        "Como hay solo una forma de obtener este resultado dentro de las 36 combinaciones posibles, la probabilidad de obtener un 2 es:\n",
        "[\n",
        "P(2) = \\frac{1}{36} \\approx 2.78\\%\n",
        "]\n",
        "\n",
        "---\n",
        "\n",
        "Comparación con otras sumas\n",
        "Veamos cuántas formas hay de obtener otras sumas:\n",
        "- Suma 3: \\( (1,2), (2,1) \\) → 2 maneras.\n",
        "- Suma 4: \\( (1,3), (2,2), (3,1) \\) → 3 maneras.\n",
        "- Suma 7:** \\( (1,6), (2,5), (3,4), (4,3), (5,2), (6,1) \\) → 6 maneras (la más probable).\n",
        "\n",
        "Como puedes ver, las sumas que pueden formarse de más maneras tienen mayor probabilidad de ocurrir.\n",
        "\n",
        "---\n",
        "\n",
        "Solo hay 1 manera de obtener un 2: ( (1,1) ), porque es la única combinación de dos números entre 1 y 6 que suma 2.\n",
        "Esto hace que la probabilidad de obtener un 2 sea la más baja entre todas las sumas posibles.\n",
        "La probabilidad de cada suma está predefinida en el diccionario esperado.\n",
        " LEY DE LOS GRANDES NÚMEROS\n",
        "Este código simula\n",
        "1000\n",
        "1000 tiros y compara la frecuencia obtenida con la probabilidad teórica.\n",
        "\n",
        "A medida que aumentamos el número de tiros, las frecuencias observadas deberían aproximarse a las probabilidades teóricas.\n",
        "Es un caso práctico de la Ley de los Grandes Números en estadística.\n",
        "\n",
        "\n",
        "\"\"\"\n",
        "\n",
        "\n",
        "\n",
        "\n",
        "\n",
        "### Simulación de dos dados\n",
        "\n",
        "##\n",
        "# Simular tirar los muchas veces y comparar los resultados simulados a los resultados esperados\n",
        "# por la teoría de probabilidad\n",
        "#\n",
        "## @param num_tiros Número de veces que se tirarán los dados\n",
        "## @return Lista con la frecuencia de cada resultado\n",
        "\n",
        "from random import randrange\n",
        "\n",
        "NUM_TIROS = 1000\n",
        "D_MAX = 6\n",
        "\n",
        "## Simular el lanzamiento de dos dados\n",
        "## @return La suma de los dos dados\n",
        "\n",
        "def lanzar_dados():\n",
        "    d1 = randrange(1, D_MAX + 1)\n",
        "    d2 = randrange(1, D_MAX + 1)\n",
        "    return d1 + d2\n",
        "\n",
        "## Simular el lanzamiento de dos dados muchas veces\n",
        "\n",
        "def main():\n",
        "    # Crear un diccionario para almacenar las proporciones esperadas\n",
        "    esperado = {2: 1/36, 3: 2/36, 4: 3/36, 5: 4/36, 6: 5/36, 7: 6/36, 8: 5/36, 9: 4/36, 10: 3/36, 11: 2/36, 12: 1/36}\n",
        "    # Crear un diccionario que asigne del total de tiros al número de ocurrencias\n",
        "    ocurrencias = {2: 0, 3: 0, 4: 0, 5: 0, 6: 0, 7: 0, 8: 0, 9: 0, 10: 0, 11: 0, 12: 0}\n",
        "# Simular los tiros y contar las ocurrencias\n",
        "    for i in range(NUM_TIROS):\n",
        "        suma = lanzar_dados()\n",
        "        ocurrencias[suma] = ocurrencias[suma] + 1\n",
        "\n",
        "    # Imprimir las proporciones simuladas y las proporciones esperadas\n",
        "    print(\"Total \\tSimulada\\tEsperada\")\n",
        "    print(\"           Porciento\\tPorciento\")\n",
        "    for i in sorted(ocurrencias.keys()):\n",
        "        print(\"%5d %11.2f %8.2f\" % (i, ocurrencias[i] / NUM_TIROS * 100, esperado[i] * 100))\n",
        "        #print(str(i) + \"\\t\" + str(ocurrencias[i] / NUM_TIROS * 100) + \"\\t\" + str(esperado[i] * 100))\n",
        "   #Llamar a la función principal\n",
        "if __name__ == '__main__':\n",
        "    main()  # Ejecutar la función principal"
      ],
      "metadata": {
        "id": "dc8r3C6kQYJ7",
        "colab": {
          "base_uri": "https://localhost:8080/"
        },
        "outputId": "bbdd8413-c41b-45cf-b81d-de9c3d5308da"
      },
      "execution_count": null,
      "outputs": [
        {
          "output_type": "stream",
          "name": "stdout",
          "text": [
            "Total \tSimulada\tEsperada\n",
            "           Porciento\tPorciento\n",
            "    2        2.60     2.78\n",
            "    3        5.50     5.56\n",
            "    4        8.50     8.33\n",
            "    5       11.40    11.11\n",
            "    6       13.30    13.89\n",
            "    7       15.60    16.67\n",
            "    8       14.80    13.89\n",
            "    9       11.60    11.11\n",
            "   10        7.80     8.33\n",
            "   11        6.20     5.56\n",
            "   12        2.70     2.78\n"
          ]
        }
      ]
    },
    {
      "cell_type": "code",
      "execution_count": null,
      "metadata": {
        "id": "iw_QUn2qN3aO",
        "colab": {
          "base_uri": "https://localhost:8080/"
        },
        "outputId": "7d404815-8097-417b-ee9f-6d5bd53ebc40"
      },
      "outputs": [
        {
          "output_type": "stream",
          "name": "stdout",
          "text": [
            "clave hola\n",
            "clave adiós\n",
            "clave gracias\n",
            "clave perdón\n",
            "clave libro\n",
            "La palabra francesa para 'gracias' es: []\n",
            "Se espera: ['perdón', 'excusez-moi']\n",
            "\n",
            "clave hola\n",
            "clave adiós\n",
            "clave gracias\n",
            "clave perdón\n",
            "clave libro\n",
            "La palabra francesa para 'adiós' es: ['adiós']\n",
            "Se espera: ['adiós']\n",
            "\n",
            "clave hola\n",
            "clave adiós\n",
            "clave gracias\n",
            "clave perdón\n",
            "clave libro\n",
            "La palabra francesa para 'que es esto?' es: []\n",
            "Se espera: []\n",
            "\n"
          ]
        }
      ],
      "source": [
        "##\n",
        "# Realice una búsqueda inversa en un diccionario y encuentre todas las claves que se asignan al valor proporcionado\n",
        "#\n",
        "## @param diccionario Diccionario en el que se realizará la búsqueda\n",
        "## @param valor Valor que se buscará en el diccionario\n",
        "## @return Lista con las claves que se asignan al valor proporcionado\n",
        "\n",
        "def busqueda_inversa(diccionario, valor):\n",
        "    claves = []\n",
        "    for clave in diccionario:\n",
        "        print(\"clave\", clave)\n",
        "        if diccionario[clave] == valor:\n",
        "            claves.append(clave)\n",
        "    return claves\n",
        "\n",
        "def main():\n",
        "    # Un diccionario asignando 4 palabras en francés aa sus traducciones en español\n",
        "    diccionario = {'hola': 'salut',\n",
        "                   'adiós': 'au revoir',\n",
        "                   'gracias': 'merci',\n",
        "                   'perdón': 'pardon, excusez-moi',\n",
        "                   'libro': 'livre'}\n",
        "    # Demostrar la búsqueda inversa con tres casos diferentes: uno retornando multiples claves,\n",
        "    # uno retornando una sola clave y uno retornando ninguna clave\n",
        "    print(\"La palabra francesa para 'gracias' es:\", busqueda_inversa(diccionario, 'perdón'))\n",
        "    print(\"Se espera: ['perdón', 'excusez-moi']\")\n",
        "    print()\n",
        "    print(\"La palabra francesa para 'adiós' es:\", busqueda_inversa(diccionario, 'au revoir'))\n",
        "    print(\"Se espera: ['adiós']\")\n",
        "    print()\n",
        "    print(\"La palabra francesa para 'que es esto?' es:\", busqueda_inversa(diccionario, 'que es esto?'))\n",
        "    print(\"Se espera: []\")\n",
        "    print()\n",
        "\n",
        "if __name__ == '__main__':\n",
        "    main()  # Ejecutar la función principal\n"
      ]
    },
    {
      "cell_type": "code",
      "source": [
        "##\n",
        "# Compute the number of unique characters in a string using a dictionary.\n",
        "#\n",
        "\n",
        "# Read the string for the user\n",
        "s = input(\"Enter a string: \")\n",
        "\n",
        "# Add each character to a diccionary with a value of True. Once we are donde the number of keys in the dictionary will be the number of unique characters in the string.\n",
        "\n",
        "characters = {}\n",
        "for c in s:\n",
        "    characters[c] = True\n",
        "# Display the result\n",
        "print(\"That string contained:\", len(characters), \"unique characters(s)\") ## The len function returns the key numbers in a dictionary.\n"
      ],
      "metadata": {
        "colab": {
          "base_uri": "https://localhost:8080/"
        },
        "id": "i_9CLdQjdF5N",
        "outputId": "db3b0827-14e5-4f36-bb60-24d280822076"
      },
      "execution_count": null,
      "outputs": [
        {
          "output_type": "stream",
          "name": "stdout",
          "text": [
            "Enter a string: Hola Mundo cruel\n",
            "That string contained: 12 unique characters(s)\n"
          ]
        }
      ]
    },
    {
      "cell_type": "code",
      "source": [
        "\"\"\"ANAGRAMS\"\"\"\n",
        "\n",
        "##\n",
        "# Determine whether or not two srings are anagrams and report the result\n",
        "#\n",
        "\n",
        "## Compute the frequency distribution for the characters in a string\n",
        "## @param s the string to process\n",
        "## return a dictionary mapping each character to its count\n",
        "def charactersCounts(s):\n",
        "  #Create a new, empty dictionary\n",
        "  counts = {}\n",
        "  #Update the count for each character\n",
        "  for c in s:\n",
        "    if c in counts:\n",
        "      counts[c] += 1\n",
        "    else:\n",
        "      counts[c] = 1\n",
        "  return counts\n",
        "\n",
        "# Determine if two strings entered by the user are anagrams\n",
        "def main():\n",
        "  # Read the string from the user\n",
        "  s1 = input(\"Enter the first string: \")\n",
        "  s2 = input(\"Enter the second string: \")\n",
        "\n",
        "  # Determine if the strings are anagrams\n",
        "  if charactersCounts(s1) == charactersCounts(s2):\n",
        "    print(\"Those strings are anagrams\")\n",
        "  else:\n",
        "    print(\"Those strings are not anagrams\")\n",
        "\n",
        "# Call the main function\n",
        "main()"
      ],
      "metadata": {
        "colab": {
          "base_uri": "https://localhost:8080/"
        },
        "id": "UPiBau1FfPaK",
        "outputId": "35ab32aa-6aae-4baa-c0ae-4b840c1888a3"
      },
      "execution_count": null,
      "outputs": [
        {
          "name": "stdout",
          "output_type": "stream",
          "text": [
            "Enter the first string: solution\n",
            "Enter the second string: restar\n"
          ]
        }
      ]
    },
    {
      "cell_type": "code",
      "source": [
        "\"\"\" SCRABBLE \"\"\"\n",
        "\n",
        "##\n",
        "# Use a dictionary to compute the Scrabble score for a word\n",
        "#\n",
        "\n",
        "# Initialize the dictionary so that it maps from lethers to points:\n",
        "points = {\n",
        "    \"A\": 1, \"B\": 3, \"C\": 3, \"D\": 2, \"E\": 1, \"F\": 4, \"G\": 2, \"H\": 4, \"I\": 1, \"J\":2, \"K\":5, \"L\":1, \"M\":3, \"N\":1, \"O\":1, \"P\":3, \"Q\":10, \"R\":1, \"S\":1, \"T\":1, \"U\":1, \"V\":4,\"W\":4, \"X\":8, \"Y\":4, \"Z\":10\n",
        "}\n",
        "# Read de word from the user\n",
        "word = input(\"Enter a word: \")\n",
        "\n",
        "#Compute the score for th word\n",
        "uppercase = word.upper()\n",
        "score = 0\n",
        "for ch in uppercase:\n",
        "  if ch in points:\n",
        "    score = score + points[ch]\n",
        "\n",
        "# Display the result\n",
        "print(word, \"is worth\", score, \"points\")"
      ],
      "metadata": {
        "colab": {
          "base_uri": "https://localhost:8080/"
        },
        "id": "srrI9xeAiGMY",
        "outputId": "b953833e-7266-46f2-92c3-997ab0b9a57f"
      },
      "execution_count": null,
      "outputs": [
        {
          "output_type": "stream",
          "name": "stdout",
          "text": [
            "Enter a word: hola mundo\n",
            "hola mundo is worth 15 points\n"
          ]
        }
      ]
    },
    {
      "cell_type": "code",
      "source": [
        "\"\"\" Create a BINGO CARD \"\"\"\n",
        "##\n",
        "# Create and display a ramdom Bingo Card\n",
        "#\n",
        "from random import randrange\n",
        "\n",
        "NUMS_PER_LETTER = 15\n",
        "\n",
        "# Created a Bing Card with randomly generated numbers\n",
        "## @return a dictionary representing the card where the keys are the strings\n",
        "# \"B\", \"I\", \"N\", \"G\" and \"O\" and the values are the lists of\n",
        "# the numbers that appear under each letter from top to bottom\n",
        "\n",
        "def createCard():\n",
        "  card = {}\n",
        "\n",
        "  # The range of integers that can be generated for the current letter\n",
        "  lower = 1\n",
        "  upper = 1 + NUMS_PER_LETTER\n",
        "\n",
        "  # For each of the five letters\n",
        "  for letter in [\"B\", \"I\", \"N\", \"G\", \"O\"]:\n",
        "    # Start with a empty list for the letter\n",
        "    card[letter] = []\n",
        "\n",
        "    # Keep generating ramdom numbers until we have 5 unique ones:\n",
        "    while len(card[letter]) != 5:\n",
        "      # Generate a random number\n",
        "      num = randrange(lower, upper)\n",
        "      #Ensure that we do not include any duplicate numbers\n",
        "      if num not in card[letter]: # Changed next.num to num and added not to ensure uniqueness\n",
        "        card[letter].append(num)\n",
        "\n",
        "    # Update the range of values that will be generated for the next letter\n",
        "    lower = upper + NUMS_PER_LETTER\n",
        "    upper = lower + NUMS_PER_LETTER\n",
        "\n",
        "  # Return the generated card\n",
        "  return card\n",
        "\n",
        "  # Display a bingo card with nice formatting\n",
        "  ## @param card the bingo card to display\n",
        "  ## @return (None)\n",
        "\n",
        "def displayCard(card):\n",
        "    # Display the headings\n",
        "    print(\"B  I  N  G  O\")\n",
        "\n",
        "    # Display the numbers\n",
        "    for i in range(5):\n",
        "      for letter in [\"B\", \"I\", \"N\", \"G\", \"O\"]:\n",
        "        print(\"%2d\" % card[letter][i], end=\" \")\n",
        "      print()\n",
        "\n",
        "def main():\n",
        "    card = createCard()\n",
        "    print(\"Here is your card:\", card)\n",
        "    displayCard(card)\n",
        "\n",
        "  # Call the main function\n",
        "if __name__ == \"__main__\":\n",
        "    main()\n"
      ],
      "metadata": {
        "colab": {
          "base_uri": "https://localhost:8080/"
        },
        "id": "7A-BhTx3lIiA",
        "outputId": "3a973323-2404-42ea-e570-080c168862bf"
      },
      "execution_count": null,
      "outputs": [
        {
          "output_type": "stream",
          "name": "stdout",
          "text": [
            "Here is your card: {'B': [9, 6, 12, 14, 10], 'I': [42, 41, 44, 31, 43], 'N': [74, 71, 68, 70, 62], 'G': [95, 100, 96, 91, 92], 'O': [123, 129, 131, 122, 128]}\n",
            "B  I  N  G  O\n",
            " 9 42 74 95 123 \n",
            " 6 41 71 100 129 \n",
            "12 44 68 96 131 \n",
            "14 31 70 91 122 \n",
            "10 43 62 92 128 \n"
          ]
        }
      ]
    },
    {
      "cell_type": "code",
      "source": [],
      "metadata": {
        "id": "JivPflKkqemE"
      },
      "execution_count": null,
      "outputs": []
    }
  ]
}