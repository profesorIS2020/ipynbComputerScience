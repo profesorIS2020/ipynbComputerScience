{
 "cells": [
  {
   "cell_type": "code",
   "execution_count": 1,
   "id": "621360f5-ff20-4e74-85f6-1281c07a055e",
   "metadata": {},
   "outputs": [
    {
     "name": "stdout",
     "output_type": "stream",
     "text": [
      "Hello Word\n"
     ]
    }
   ],
   "source": [
    "print('Hello Word')"
   ]
  },
  {
   "cell_type": "code",
   "execution_count": 3,
   "id": "18a7d416-d1c5-449b-986c-b0c02fd8790d",
   "metadata": {
    "scrolled": true
   },
   "outputs": [
    {
     "name": "stdout",
     "output_type": "stream",
     "text": [
      "Hello, word\n"
     ]
    },
    {
     "name": "stdin",
     "output_type": "stream",
     "text": [
      "Introduzca su nombre:  javi hernandez\n"
     ]
    },
    {
     "name": "stdout",
     "output_type": "stream",
     "text": [
      "Hello javi hernandez\n"
     ]
    }
   ],
   "source": [
    "print('Hello, word')\n",
    "user_name = input('Introduzca su nombre: ')\n",
    "print('Hello', user_name)"
   ]
  },
  {
   "cell_type": "code",
   "execution_count": 4,
   "id": "63bc83a7-7d69-43c8-b6ba-af92940b7d97",
   "metadata": {},
   "outputs": [
    {
     "name": "stdout",
     "output_type": "stream",
     "text": [
      "Hello, word\n"
     ]
    },
    {
     "name": "stdin",
     "output_type": "stream",
     "text": [
      "Introduzca su nombre:  javi hernandez\n"
     ]
    },
    {
     "name": "stdout",
     "output_type": "stream",
     "text": [
      "Hello javi hernandez\n"
     ]
    },
    {
     "name": "stdin",
     "output_type": "stream",
     "text": [
      "Cuál es el nombre de tu mejor amigo:  reisel\n"
     ]
    },
    {
     "name": "stdout",
     "output_type": "stream",
     "text": [
      "Hola Mejor Amigo reisel\n"
     ]
    }
   ],
   "source": [
    "print('Hello, word')\n",
    "user_name = input('Introduzca su nombre: ')\n",
    "print('Hello', user_name)\n",
    "name = input('Cuál es el nombre de tu mejor amigo: ')\n",
    "print('Hola Mejor Amigo', name)"
   ]
  },
  {
   "cell_type": "code",
   "execution_count": null,
   "id": "45106616-665f-428a-9ea5-6e9c27b4ecd9",
   "metadata": {},
   "outputs": [],
   "source": []
  }
 ],
 "metadata": {
  "kernelspec": {
   "display_name": "Python 3 (ipykernel)",
   "language": "python",
   "name": "python3"
  },
  "language_info": {
   "codemirror_mode": {
    "name": "ipython",
    "version": 3
   },
   "file_extension": ".py",
   "mimetype": "text/x-python",
   "name": "python",
   "nbconvert_exporter": "python",
   "pygments_lexer": "ipython3",
   "version": "3.12.3"
  }
 },
 "nbformat": 4,
 "nbformat_minor": 5
}
