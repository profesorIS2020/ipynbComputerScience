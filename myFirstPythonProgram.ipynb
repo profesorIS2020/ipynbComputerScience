{
 "cells": [
  {
   "cell_type": "code",
   "execution_count": null,
   "id": "45106616-665f-428a-9ea5-6e9c27b4ecd9",
   "metadata": {},
   "outputs": [],
   "source": [
    "%%writefile myFirstPythonProgram.py\n",
    "print('Hello, word')\n",
    "user_name = input('Introduzca su nombre: ')\n",
    "print('Hello', user_name)\n",
    "name = input('Cuál es el nombre de tu mejor amigo: ')\n",
    "print('Hola Mejor Amigo', name)\n"
   ]
  },
  {
   "cell_type": "code",
   "execution_count": null,
   "id": "8bc14dae-97f6-44f5-9596-69645822cbcb",
   "metadata": {},
   "outputs": [],
   "source": [
    "!py myFirstPythonProgram.py"
   ]
  },
  {
   "cell_type": "code",
   "execution_count": null,
   "id": "5b9e09a9-3138-4c07-923f-999c6ad0cb10",
   "metadata": {},
   "outputs": [],
   "source": []
  }
 ],
 "metadata": {
  "kernelspec": {
   "display_name": "Python 3 (ipykernel)",
   "language": "python",
   "name": "python3"
  },
  "language_info": {
   "codemirror_mode": {
    "name": "ipython",
    "version": 3
   },
   "file_extension": ".py",
   "mimetype": "text/x-python",
   "name": "python",
   "nbconvert_exporter": "python",
   "pygments_lexer": "ipython3",
   "version": "3.12.3"
  }
 },
 "nbformat": 4,
 "nbformat_minor": 5
}
