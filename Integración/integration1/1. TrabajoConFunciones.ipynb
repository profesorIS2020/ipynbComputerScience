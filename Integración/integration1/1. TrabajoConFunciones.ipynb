{
 "cells": [
  {
   "cell_type": "code",
   "execution_count": 1,
   "id": "6f658222",
   "metadata": {},
   "outputs": [
    {
     "name": "stdout",
     "output_type": "stream",
     "text": [
      "Este número es negativo -8\n",
      "Fin del programa\n"
     ]
    }
   ],
   "source": [
    "# Basic functions\n",
    "## Muestre si un número es negativo\n",
    "#\n",
    "def isNegative(n):\n",
    "    if n <= 0:\n",
    "        return True\n",
    "\n",
    "def main():\n",
    "    \n",
    "    # Variante 1:\n",
    "    # n = -6\n",
    "    # Variante 2:\n",
    "    n = int(input('Enter a number: '))\n",
    "    if isNegative(n):\n",
    "        print(\"Este número es negativo\", n)\n",
    "    else:\n",
    "        print(\"Este número es positivo o es 0: \", n)  \n",
    "    print(\"Fin del programa\")\n",
    "\n",
    "main()"
   ]
  },
  {
   "cell_type": "code",
   "execution_count": null,
   "id": "7cfda3b5",
   "metadata": {},
   "outputs": [
    {
     "name": "stdout",
     "output_type": "stream",
     "text": [
      "Este número es negativo:  -8\n",
      "Fin del programa\n"
     ]
    }
   ],
   "source": [
    "# Importar la librería random para generar números aleatorios\n",
    "# en el rango de -10 a 10\n",
    "import random\n",
    "\n",
    "def isNegative(n):\n",
    "\n",
    "    if n < 0:\n",
    "        return True\n",
    "\n",
    "\n",
    "def main():\n",
    "    \n",
    "    # Variante 1:\n",
    "    n = random.randint(-10, 10)\n",
    "    \n",
    "    if isNegative(n):\n",
    "        print(\"Este número es negativo: \", n)\n",
    "    else:\n",
    "        print(\"Este número es positivo o es 0\", n)  \n",
    "    print(\"Fin del programa\")\n",
    "\n",
    "\n",
    "main()"
   ]
  },
  {
   "cell_type": "code",
   "execution_count": 3,
   "id": "8b0f8190",
   "metadata": {},
   "outputs": [
    {
     "name": "stdout",
     "output_type": "stream",
     "text": [
      "Paloma   no estudia\n",
      "Fin del programa\n"
     ]
    }
   ],
   "source": [
    "# Basic functions\n",
    "## Condiciones con cadenas\n",
    "#\n",
    "def estudia(s):\n",
    "\n",
    "    if s == \"estudia\":\n",
    "        return True\n",
    "    else:\n",
    "        return False\n",
    "\n",
    "\n",
    "def main():\n",
    "\n",
    "    # Variante 1:\n",
    "    nombre = \"Paloma\"\n",
    "    s = \"no estudia\"\n",
    "    # Variante 2:\n",
    "    #nombre = input('Ingrese su nombre: ')\n",
    "    #s = input('Ingrese si estudia o no estudia: ')\n",
    "    if estudia(s) == True:\n",
    "        print(nombre, s)\n",
    "    else:\n",
    "        print(nombre,\" \" ,\"no estudia\")\n",
    "   \n",
    "    print(\"Fin del programa\")\n",
    "\n",
    "\n",
    "main()"
   ]
  },
  {
   "cell_type": "code",
   "execution_count": null,
   "id": "e0b0fed2",
   "metadata": {},
   "outputs": [
    {
     "name": "stdout",
     "output_type": "stream",
     "text": [
      "lista_numeros [2, 5, 7, 8, 5, 5, 5, 4, 3, 7, 2, 9, 7, 9, 8, 5, 5, 5, 9, 3, 2, 5, 6]\n",
      "Mediana: 5\n"
     ]
    }
   ],
   "source": [
    "\n",
    "def mediana(lista):\n",
    "    \"\"\"Calcula la mediana de una lista de números.\"\"\"\n",
    "    return statistics.median(lista)\n",
    "\n",
    "def main():\n",
    "    # Generar una lista de números aleatorios\n",
    "    lista_numeros = [2,5,7,8,5,5,5,4,3,7,2,9,7,9,8,5,5,5,9,3,2,5,6]\n",
    "    print(\"lista_numeros\", lista_numeros)\n",
    "    # Calcular y mostrar la media, moda, mediana y desviación típica\n",
    "    print(\"Mediana:\", mediana(lista_numeros))\n",
    "    \n",
    "\n",
    "if __name__ == \"__main__\":\n",
    "    import statistics\n",
    "    \n",
    "\n",
    "main()\n",
    "\n",
    "   "
   ]
  },
  {
   "cell_type": "code",
   "execution_count": 2,
   "id": "b63a7534-a2d9-4bf8-9f30-d45213d22aca",
   "metadata": {},
   "outputs": [
    {
     "name": "stdout",
     "output_type": "stream",
     "text": [
      "Entre el primer valor:  23\n",
      "Entre el segundo valor:  45\n",
      "Entre el tercer valor:  78\n"
     ]
    },
    {
     "name": "stdout",
     "output_type": "stream",
     "text": [
      "El valor medio es:  45.0\n",
      "El valor medio usando aritmética es:  45.0\n"
     ]
    }
   ],
   "source": [
    "import random\n",
    "import string\n",
    "import math\n",
    "\n",
    "# Mediana de tres valores\n",
    "\"\"\"\n",
    "Este ejercicio requiere escribir una función que tome tres números como parámetros y devuelva el valor mediano de esos parámetros como su resultado. Incluye un programa principal que lee tres valores del usuario y muestra su mediana. \n",
    "Concepto de mediana: La mediana es un número (estadístico) que divide una lista de valores en dos partes iguales. Esto significa que la mitad de los valores son menores que la mediana y la otra mitad son mayores. La mediana de tres valores es también la suma de los valores menos el más pequeño menos el más grande. \n",
    "\"\"\"\n",
    "## Calcule la mediana de tres valores usando condicionales\n",
    "# @param a primer valor\n",
    "# @param b el segundo parametro\n",
    "# @param c el tercer parametro\n",
    "# @return la mediana de los valores a,b y c\n",
    "\n",
    "\n",
    "def mediana_de_tres(a, b, c):\n",
    "    if a < b and b < c or a > b and b > c:\n",
    "        return b\n",
    "    if b < a and a < c or b > a and a > c:\n",
    "        return a\n",
    "    if c < a and b < c or c > a and b > c:\n",
    "        return c\n",
    "\n",
    "## Calcule la mediana de tres valores usando las funciones de min y maximo de python\n",
    "# @param a primer valor\n",
    "# @param b el segundo parametro\n",
    "# @param c el tercer parametro\n",
    "# @return la mediana de los valores a,b y c\n",
    "\n",
    "def mediana_con_aritmetica(a, b, c):\n",
    "   return a+b+c -min(a, b, c) - max(a, b, c)\n",
    "\n",
    "# Mostrar la mediana de tres valores ingresada por el usuario\n",
    "def main():\n",
    "    x= float(input(\"Entre el primer valor: \"))\n",
    "    y= float(input(\"Entre el segundo valor: \"))\n",
    "    z= float(input(\"Entre el tercer valor: \"))\n",
    "    print(\"El valor medio es: \", mediana_de_tres(x, y, z))\n",
    "    print(\"El valor medio usando aritmética es: \", mediana_con_aritmetica(x, y, z))\n",
    "\n",
    "# Llamar a la función main\n",
    "main()\n"
   ]
  },
  {
   "cell_type": "code",
   "execution_count": 18,
   "id": "676ba805-5f25-43dc-be93-9d9758eb2cce",
   "metadata": {},
   "outputs": [
    {
     "name": "stdout",
     "output_type": "stream",
     "text": [
      "                              Una historia Famosa\n",
      "                                      por:\n",
      "                              William Shakespeare\n",
      "\n",
      "Había una vez .......\n"
     ]
    }
   ],
   "source": [
    "##\n",
    "# Centrar un string en la terminal dentro de un ancho determinado\n",
    "#\n",
    "WITDTH = 80\n",
    "\n",
    "## Crear una nueva cadena que será dcentrada dentro de un ancho dado cuando se imprime.\n",
    "# @param s la cadena que será centrada\n",
    "# @param width el ancho dentro del cual la cadena será centrada\n",
    "# @return retorna la cadena s centrada cuando es impresa \n",
    "\n",
    "def centrar_cadena(s, witdth):\n",
    "    # Si la cadena es demasiado larga para centrarla, entonces es retornada la cadena original\n",
    "    if witdth < len(s):\n",
    "        return s\n",
    "    # Calcula el número de espacios que se requieren y genera un resultado\n",
    "    spaces = (witdth - len(s)) // 2\n",
    "    result = \" \" * spaces + s  # Usa \" \" * spaces para agregar los espacios\n",
    "\n",
    "    return result\n",
    "\n",
    "\n",
    "# Demostración de la función centrar_cadena\n",
    "def main():\n",
    "    print(centrar_cadena(\"Una historia Famosa\", WITDTH))\n",
    "    print(centrar_cadena(\"por:\", WITDTH))\n",
    "    print(centrar_cadena(\"William Shakespeare\", WITDTH))\n",
    "    print()\n",
    "    print(\"Había una vez .......\")\n",
    "\n",
    "# Llamar a la función principal\n",
    "main()"
   ]
  }
 ],
 "metadata": {
  "kernelspec": {
   "display_name": "Python 3",
   "language": "python",
   "name": "python3"
  },
  "language_info": {
   "codemirror_mode": {
    "name": "ipython",
    "version": 3
   },
   "file_extension": ".py",
   "mimetype": "text/x-python",
   "name": "python",
   "nbconvert_exporter": "python",
   "pygments_lexer": "ipython3",
   "version": "3.12.0"
  }
 },
 "nbformat": 4,
 "nbformat_minor": 5
}
