{
 "cells": [
  {
   "cell_type": "code",
   "execution_count": null,
   "id": "fb54c1e4-b712-4ce5-bf4b-928a2c9b79cd",
   "metadata": {},
   "outputs": [],
   "source": [
    "# Sintaxis\n",
    "\"\"\"\n",
    "#Sintaxis del ciclo for\n",
    "for i = from 0 to 10\n",
    "    statement or statements   \n",
    "\"\"\""
   ]
  },
  {
   "cell_type": "code",
   "execution_count": 1,
   "id": "1a7366ab-b0e7-45d7-b5c8-37af69ef74f6",
   "metadata": {},
   "outputs": [
    {
     "name": "stdout",
     "output_type": "stream",
     "text": [
      "Print out values in a range\n",
      "0   \n",
      "1   \n",
      "2   \n",
      "3   \n",
      "4   \n",
      "5   \n",
      "6   \n",
      "7   \n",
      "8   \n",
      "9   \n",
      "Done\n"
     ]
    }
   ],
   "source": [
    "#Ejemplo 1\n",
    "\n",
    "#Loop over a set of values in a range\n",
    "print('Print out values in a range')\n",
    "for i in range(0, 10):\n",
    " print(i, ' ', end= ' ')\n",
    " print()\n",
    "print('Done')\n"
   ]
  },
  {
   "cell_type": "code",
   "execution_count": 3,
   "id": "d64fda25-b983-4377-8cb7-58efcf91df2e",
   "metadata": {},
   "outputs": [
    {
     "name": "stdout",
     "output_type": "stream",
     "text": [
      "Print out values in a range with an increment of 2\n",
      "0  \n",
      "2  \n",
      "4  \n",
      "6  \n",
      "8  \n",
      "Done\n"
     ]
    }
   ],
   "source": [
    "#Ejemplo 2\n",
    "# Now use values in a range but increment by 2\n",
    "print('Print out values in a range with an increment of 2')\n",
    "for i in range(0, 10, 2):\n",
    " print(i, ' ', end='')\n",
    " print()\n",
    "print('Done')"
   ]
  },
  {
   "cell_type": "code",
   "execution_count": 5,
   "id": "c1a89d97-5aac-4507-af73-e287f895476c",
   "metadata": {},
   "outputs": [
    {
     "name": "stdout",
     "output_type": "stream",
     "text": [
      "..........\n"
     ]
    }
   ],
   "source": [
    "#Ejemplo 3\n",
    "#Now use an 'anonymous' loop variable\n",
    "for _ in range(0,10):\n",
    " print('.', end='')\n",
    "print()\n"
   ]
  },
  {
   "cell_type": "code",
   "execution_count": 11,
   "id": "a3de9e56-88b2-4c55-b0e1-84e2d4369360",
   "metadata": {},
   "outputs": [
    {
     "name": "stdout",
     "output_type": "stream",
     "text": [
      "Only print code if all iterations completed\n"
     ]
    },
    {
     "name": "stdin",
     "output_type": "stream",
     "text": [
      "Enter a number to check for:  6\n"
     ]
    },
    {
     "name": "stdout",
     "output_type": "stream",
     "text": [
      "0  1  2  3  4  5  Done\n"
     ]
    }
   ],
   "source": [
    "#Ejemplo 4\n",
    "print('Only print code if all iterations completed')\n",
    "num = int(input('Enter a number to check for: '))\n",
    "for i in range(0, 6):\n",
    "    if i == num:\n",
    "        break\n",
    "    print(i, ' ', end='')\n",
    "print('Done')"
   ]
  },
  {
   "cell_type": "code",
   "execution_count": 15,
   "id": "559e5f74-f0e8-4e08-a8b7-95b8dbc2a817",
   "metadata": {},
   "outputs": [
    {
     "name": "stdout",
     "output_type": "stream",
     "text": [
      "Este es un número  0\n",
      "hey its an even number\n",
      "we love even numbers\n",
      "Este es un número  1\n",
      "Este es un número  2\n",
      "hey its an even number\n",
      "we love even numbers\n",
      "Este es un número  3\n",
      "Este es un número  4\n",
      "hey its an even number\n",
      "we love even numbers\n",
      "Este es un número  5\n",
      "Este es un número  6\n",
      "hey its an even number\n",
      "we love even numbers\n",
      "Este es un número  7\n",
      "Este es un número  8\n",
      "hey its an even number\n",
      "we love even numbers\n",
      "Este es un número  9\n",
      "Done\n"
     ]
    }
   ],
   "source": [
    "#Ejemplo 5\n",
    "\n",
    "for i in range(0, 10):\n",
    " print(\"Este es un número \", i)\n",
    " if i % 2 == 1:\n",
    "  continue\n",
    " print('hey its an even number')\n",
    " print('we love even numbers')\n",
    "print('Done')\n"
   ]
  },
  {
   "cell_type": "code",
   "execution_count": 19,
   "id": "b32a344a-9b68-4303-8aa3-09143f45afef",
   "metadata": {},
   "outputs": [
    {
     "name": "stdout",
     "output_type": "stream",
     "text": [
      "Only print code if all iterations completed\n"
     ]
    },
    {
     "name": "stdin",
     "output_type": "stream",
     "text": [
      "Enter a number to check for:  4\n"
     ]
    },
    {
     "name": "stdout",
     "output_type": "stream",
     "text": [
      "0  1  2  3  "
     ]
    }
   ],
   "source": [
    "#Ejemplo 6\n",
    "\n",
    "# Only print code if all iterations completed over a list\n",
    "print('Only print code if all iterations completed')\n",
    "num = int(input('Enter a number to check for: '))\n",
    "for i in range(0, 6):\n",
    " if i == num:\n",
    "  break\n",
    " print(i, ' ', end='')\n",
    "else:\n",
    " print()\n",
    " print('All iterations successful')\n"
   ]
  },
  {
   "cell_type": "code",
   "execution_count": 21,
   "id": "a2051b45-4ae7-4bf1-9354-02fb42250bcc",
   "metadata": {},
   "outputs": [
    {
     "name": "stdout",
     "output_type": "stream",
     "text": [
      "Starting\n",
      "0  1  2  3  4  5  6  7  8  9  \n",
      "Done\n"
     ]
    }
   ],
   "source": [
    "#Ejemplo 7\n",
    "\n",
    "count = 0\n",
    "print('Starting')\n",
    "while count < 10:\n",
    "    print(count, ' ', end='') # part of the while loop\n",
    "    count += 1 # also part of the while loop\n",
    "print() # not part of the while loop\n",
    "print('Done')\n"
   ]
  },
  {
   "cell_type": "code",
   "execution_count": 23,
   "id": "35194fc0-532e-4d96-9ef7-c842e12b97f9",
   "metadata": {},
   "outputs": [
    {
     "name": "stdout",
     "output_type": "stream",
     "text": [
      "Rolling the dices...\n",
      "The values are....\n",
      "5\n",
      "5\n"
     ]
    },
    {
     "name": "stdin",
     "output_type": "stream",
     "text": [
      "Roll the dices again? (y / n):  y\n"
     ]
    },
    {
     "name": "stdout",
     "output_type": "stream",
     "text": [
      "Rolling the dices...\n",
      "The values are....\n",
      "3\n",
      "3\n"
     ]
    },
    {
     "name": "stdin",
     "output_type": "stream",
     "text": [
      "Roll the dices again? (y / n):  y\n"
     ]
    },
    {
     "name": "stdout",
     "output_type": "stream",
     "text": [
      "Rolling the dices...\n",
      "The values are....\n",
      "1\n",
      "2\n"
     ]
    },
    {
     "name": "stdin",
     "output_type": "stream",
     "text": [
      "Roll the dices again? (y / n):  n\n"
     ]
    }
   ],
   "source": [
    "#Ejemplo 8\n",
    "\n",
    "#Rolling the dices\n",
    "import random\n",
    "MIN = 1\n",
    "MAX = 6\n",
    "roll_again = 'y'\n",
    "while roll_again == 'y':\n",
    " print('Rolling the dices...')\n",
    " print('The values are....')\n",
    " dice1 = random.randint(MIN, MAX)\n",
    " print(dice1)\n",
    " dice2 = random.randint(MIN, MAX)\n",
    " print(dice2)\n",
    " roll_again = input('Roll the dices again? (y / n): ')\n"
   ]
  },
  {
   "cell_type": "code",
   "execution_count": 77,
   "id": "e4149b39-56f7-412a-be6f-683634133d7c",
   "metadata": {},
   "outputs": [
    {
     "name": "stdin",
     "output_type": "stream",
     "text": [
      "Enter the price of the item (blank to quit):  6.5\n"
     ]
    },
    {
     "name": "stdout",
     "output_type": "stream",
     "text": [
      "<class 'str'>\n"
     ]
    },
    {
     "name": "stdin",
     "output_type": "stream",
     "text": [
      "Enter the price of the item (blank to quit):  \n"
     ]
    },
    {
     "name": "stdout",
     "output_type": "stream",
     "text": [
      "The exact amount payable is 6.50\n",
      "0.0\n",
      "The cash amount payable is 6.50\n"
     ]
    }
   ],
   "source": [
    "#Práctica I\n",
    "\n",
    "\"\"\" \n",
    "##\n",
    "#Calcule el total adeudado cuando se compran varios artículos. El \n",
    "#monto a pagar por transacciones en efectivo se redondea al níquel más \n",
    "#cercano porque los centavos se han ido eliminando gradualmente en \n",
    "#Canadá. Considere que 5 centavos son un nickel y que un nickel tiene un valor de 0.05\n",
    "#\n",
    "\n",
    "\"\"\"\n",
    "#Algoritmo:\n",
    "#Rastrear el total de todos los artículos\n",
    "#Leer el precio de los primeros artículos como una cadena.\n",
    "#Continuar leyendo elementos hasta ingresar una línea en blanco\n",
    "#Agregue el costo del artículo al total (después de convertirlo en flotante)\n",
    "#Lea el costo del siguiente artículo.\n",
    "#Mostrar el total exacto a pagar\n",
    "#Calcule la cantidad de centavos que quedarían si se pagara el total\n",
    "#solo usando monedas de cinco centavos\n",
    "#Si el número de centavos que quedan es inferior a 2,5, redondeamos hacia abajo\n",
    "#restando esa cantidad de centavos del total\n",
    "#De lo contrario, sumamos una moneda de cinco centavos y luego restamos la cantidad de centavos.\n",
    "#Mostrar el monto en efectivo a pagar\n",
    "\n",
    "PENNIES_PER_NICKEL = 5 #centavos por nickel\n",
    "NICKEL = 0.05 #un nickel\n",
    "\n",
    "# track the total of all the items\n",
    "\n",
    "total = 0.00\n",
    "\n",
    "#Read the price of the first items as a string\n",
    "line = input(\"Enter the price of the item (blank to quit): \")\n",
    "print(type(line))\n",
    "#Continue reading items until a blank line is entered\n",
    "while line != \"\":\n",
    " #Add the cost of the item to the total (after converting it to float)\n",
    " total = total + float(line)\n",
    " #Read the cost of the next item\n",
    " line  = input(\"Enter the price of the item (blank to quit): \")\n",
    "\n",
    "#Display the exact total payable\n",
    "print(\"The exact amount payable is %.02f\" % total)\n",
    "#print(\"en nickels\",total/5)\n",
    "#print(\"en pennies\",total/0.05)\n",
    "#Compute the number of pennies that would be left if the total was paid\n",
    "#only using nickels\n",
    "rounding_indicator = total * 100 % PENNIES_PER_NICKEL\n",
    "print(rounding_indicator)\n",
    "if rounding_indicator < PENNIES_PER_NICKEL / 2:\n",
    " #If the number of pennies left is less than 2.5 then we round down by\n",
    " #subtracting that number of pennies from the total\n",
    " cash_total = total - rounding_indicator / 100\n",
    "else:\n",
    " #Otherwise we add a nickel and then subtract the number of pennies\n",
    " cash_total = total + NICKEL - rounding_indicator / 100\n",
    "#Display the cash amount payable\n",
    "print(\"The cash amount payable is %.02f\" % cash_total)"
   ]
  },
  {
   "cell_type": "code",
   "execution_count": 79,
   "id": "92745b14-95ab-4a6d-81d9-88f32838528d",
   "metadata": {},
   "outputs": [
    {
     "name": "stdin",
     "output_type": "stream",
     "text": [
      "Please input the number: 56\n"
     ]
    },
    {
     "name": "stdout",
     "output_type": "stream",
     "text": [
      "56! factorial is 710998587804863451854045647463724949736497978881168458687447040000000000000\n"
     ]
    }
   ],
   "source": [
    "\n",
    "#Práctica II\n",
    "\n",
    "#Compute the factorial\n",
    "number = input('Please input the number:')\n",
    "\n",
    "if number.isnumeric():\n",
    "    num = int(number)\n",
    "\n",
    "    if num == 0:\n",
    "        # Termination criteria\n",
    "        print('0! factorial is 1')\n",
    "    else:\n",
    "        # Looping element\n",
    "        factorial = 1\n",
    "        for i in range(1, num + 1):\n",
    "            factorial = factorial * i\n",
    "        print(number + '! factorial is', str(factorial))\n",
    "\n",
    "else:\n",
    "    print('Not an integer number')\n"
   ]
  },
  {
   "cell_type": "code",
   "execution_count": 2,
   "id": "e6a96c5e-039b-4bea-bc6d-ab36203361aa",
   "metadata": {},
   "outputs": [
    {
     "name": "stdin",
     "output_type": "stream",
     "text": [
      "Please input the final number for a range: 2\n"
     ]
    },
    {
     "name": "stdout",
     "output_type": "stream",
     "text": [
      "Number must be greater than 2\n"
     ]
    }
   ],
   "source": [
    "\n",
    "#Práctica III\n",
    "\n",
    "# Determine if a number is a prime number\n",
    "\n",
    "number = input('Please input the final number for a range:')\n",
    "if number.isnumeric():\n",
    "\n",
    "    num = int(number)\n",
    "\n",
    "    if num <= 2:\n",
    "        print('Number must be greater than 2')\n",
    "    else:\n",
    "        # Assume a number is a prime number until proved otherwise\n",
    "        prime_number = True\n",
    "        for i in range(2, num):\n",
    "            for j in range(2, i):\n",
    "                # If there is no remainder then its not a prime number\n",
    "                if i % j == 0:\n",
    "                    prime_number = False\n",
    "                    break\n",
    "            if prime_number:\n",
    "                print('Prime number', i)\n",
    "            prime_number = True\n",
    "\n",
    "else:\n",
    "    print('Must be a positive integer')\n"
   ]
  },
  {
   "cell_type": "code",
   "execution_count": 6,
   "id": "821d17f2-b5b2-4eb8-863f-34fc6b570923",
   "metadata": {},
   "outputs": [
    {
     "name": "stdin",
     "output_type": "stream",
     "text": [
      "Enter the day of the week:  monday\n"
     ]
    },
    {
     "name": "stdout",
     "output_type": "stream",
     "text": [
      "Mondayis a weekday.\n"
     ]
    }
   ],
   "source": [
    "# Match case\n",
    "day = input(\"Enter the day of the week: \").capitalize()\n",
    "# Match the day to predefined patterns\n",
    "match day:\n",
    "    case \"Saturday\" | \"Sunday\":\n",
    "        print(f\"{day} is a weekend.\")\n",
    "    case \"Monday\" | \"Tuesday\" | \"Wednesday\" | \"Tursday\" | \"Friday\" :\n",
    "        print(f\"{day} is a weekday.\")\n",
    "    case _:\n",
    "        print(\" That is not valid day of the week. \") # Default case"
   ]
  },
  {
   "cell_type": "code",
   "execution_count": null,
   "id": "6a37579b-0b66-45d0-af70-f7ab4057e24a",
   "metadata": {},
   "outputs": [],
   "source": []
  }
 ],
 "metadata": {
  "kernelspec": {
   "display_name": "Python 3 (ipykernel)",
   "language": "python",
   "name": "python3"
  },
  "language_info": {
   "codemirror_mode": {
    "name": "ipython",
    "version": 3
   },
   "file_extension": ".py",
   "mimetype": "text/x-python",
   "name": "python",
   "nbconvert_exporter": "python",
   "pygments_lexer": "ipython3",
   "version": "3.11.7"
  }
 },
 "nbformat": 4,
 "nbformat_minor": 5
}
